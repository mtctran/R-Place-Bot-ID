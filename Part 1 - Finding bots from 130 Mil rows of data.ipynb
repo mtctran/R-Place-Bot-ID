{
 "cells": [
  {
   "cell_type": "markdown",
   "id": "96ce06dd",
   "metadata": {},
   "source": [
    "Import necessary packages"
   ]
  },
  {
   "cell_type": "code",
   "execution_count": 1,
   "id": "1fd99786",
   "metadata": {},
   "outputs": [],
   "source": [
    "import boto3\n",
    "import os\n",
    "import glob\n",
    "import shutil\n",
    "import pyarrow.csv as csv\n",
    "import pyarrow.parquet as pq\n",
    "import pyarrow as pa\n",
    "from io import BytesIO"
   ]
  },
  {
   "cell_type": "markdown",
   "id": "f598f106",
   "metadata": {},
   "source": [
    "Read in parquet files from S3 and store them as separate tables"
   ]
  },
  {
   "cell_type": "code",
   "execution_count": 2,
   "id": "4d021c6a",
   "metadata": {},
   "outputs": [
    {
     "name": "stderr",
     "output_type": "stream",
     "text": [
      "/home/ec2-user/anaconda3/envs/python3/lib/python3.10/site-packages/pandas/core/computation/expressions.py:21: UserWarning: Pandas requires version '2.8.0' or newer of 'numexpr' (version '2.7.3' currently installed).\n",
      "  from pandas.core.computation.check import NUMEXPR_INSTALLED\n"
     ]
    }
   ],
   "source": [
    "import boto3\n",
    "import pyarrow.parquet as pq\n",
    "from io import BytesIO\n",
    "\n",
    "# Generate Boto3 S3 client\n",
    "s3_client = boto3.client('s3')\n",
    "\n",
    "bucket_name = 'noturs'  \n",
    "parquet_folder = 'rplace-parquet/' \n",
    "# Function to read Parquet files from S3 bucket\n",
    "def read_parquet_from_s3(bucket, folder, file_name):\n",
    "    response = s3_client.get_object(Bucket=bucket, Key=folder + file_name)\n",
    "    parquet_file = pq.read_table(BytesIO(response['Body'].read()))\n",
    "    return parquet_file\n",
    "\n",
    "\n",
    "parquet_files = [\n",
    "    'combined_chunk_0.parquet',\n",
    "    'combined_chunk_1.parquet',\n",
    "    'combined_chunk_2.parquet',\n",
    "    'combined_chunk_3.parquet',\n",
    "    'combined_chunk_4.parquet',\n",
    "    'combined_chunk_5.parquet'\n",
    "]\n",
    "\n",
    "# Read Parquet files into a dictionary of PyArrow Tables\n",
    "parquet_tables = {}\n",
    "for i, file_name in enumerate(parquet_files):\n",
    "    table_name = f'df{i+1}'\n",
    "    table = read_parquet_from_s3(bucket_name, parquet_folder, file_name)\n",
    "    parquet_tables[table_name] = table"
   ]
  },
  {
   "cell_type": "code",
   "execution_count": 3,
   "id": "2a96e81d",
   "metadata": {},
   "outputs": [
    {
     "name": "stdout",
     "output_type": "stream",
     "text": [
      "                     timestamp  \\\n",
      "0  2023-07-20 13:00:26.088 UTC   \n",
      "1  2023-07-20 13:00:43.658 UTC   \n",
      "2  2023-07-20 13:00:43.705 UTC   \n",
      "3  2023-07-20 13:01:02.487 UTC   \n",
      "4  2023-07-20 13:01:40.445 UTC   \n",
      "\n",
      "                                                user coordinate pixel_color  \n",
      "0  no+8HEIDjbdx7/LxH9Xr+h4lyoar0MRTYugWKrGdQOg7dF...  -199,-235     #FFFFFF  \n",
      "1  qJ7O6cuUNfkDyn+ZOEYR+UiVEmAu/vYfm/s4hK0XJytqAx...     0,-298     #FF4500  \n",
      "2  uqi5XwkBePwcPKJgGOxHKzzzXuZKU6iKZT+OVfUJfaRKek...   -42,-218     #FFFFFF  \n",
      "3  rgSTj7FHZUHsLXZLLNj9+vxibHIowb2+UhfFLDYgsVBXqI...  -418,-232     #B44AC0  \n",
      "4  2bmivBNj8NYvnp/15k0EqC+75T1OxTtCUcRG2pf0c5btzF...    182,164     #FF4500  \n"
     ]
    }
   ],
   "source": [
    "print(parquet_tables['df1'].to_pandas().head())"
   ]
  },
  {
   "cell_type": "markdown",
   "id": "3ce786bf",
   "metadata": {},
   "source": [
    "Create an array of 32 colors used in /rplace for the function to loop through"
   ]
  },
  {
   "cell_type": "code",
   "execution_count": 4,
   "id": "cc866155",
   "metadata": {},
   "outputs": [],
   "source": [
    "colors = [\n",
    "'#6B0119', \n",
    "'#244FA4',\n",
    "'#6D462F',\n",
    "'#BD0037',\n",
    "'#3790EA', \n",
    "'#9B6926',\n",
    "'#FF4500',\n",
    "'#52E8F3',\n",
    "'#FEB470',\n",
    "'#FEA800',\n",
    "'#4839BF',\n",
    "'#000000',\n",
    "'#FFD435',\n",
    "'#695BFF',\n",
    "'#525252',\n",
    "'#FEF8B9',\n",
    "'#94B3FF',\n",
    "'#888090',\n",
    "'#01A267',\n",
    "'#801D9F',\n",
    "'#D5D6D8',\n",
    "'#09CC76',\n",
    "'#B449BF',\n",
    "'#FFFFFF',\n",
    "'#7EEC57',\n",
    "'#E4ABFD',\n",
    "'#02756D',\n",
    "'#DD117E',\n",
    "'#009DAAL',\n",
    "'#FE3781',\n",
    "'#00CCB',\n",
    "'#FE99A9']"
   ]
  },
  {
   "cell_type": "markdown",
   "id": "88418afe",
   "metadata": {},
   "source": [
    "Function to detect based on the following steps:\n",
    "\n",
    "-Grab all pixels with a specific color (from array) and a specific timestamp\n",
    "-Filter down to whether those pixels has been changed to a different color no matter how late later (however, the timestamp has to be the next one after the original timestamp).\n",
    "-See whether those pixels are switched back to the original color immediately after it was changed to a different color (within 20 milliseconds)."
   ]
  },
  {
   "cell_type": "code",
   "execution_count": 5,
   "id": "9fb695db",
   "metadata": {},
   "outputs": [],
   "source": [
    "import pyarrow.parquet as pq\n",
    "import pandas as pd\n",
    "\n",
    "def find_color_changes(colors, parquet_tables, output_file):\n",
    "    # Create an empty list to store the results\n",
    "    result_tables = []\n",
    "\n",
    "    # Iterate through each color\n",
    "    for color in colors:\n",
    "        # Create variables to store the original color and changed color\n",
    "        original_color = None\n",
    "        changed_color = None\n",
    "\n",
    "        # Loop through Parquet tables to find pixels with the current color\n",
    "        for table_name, table in parquet_tables.items():\n",
    "            # Convert Parquet table to pandas DataFrame\n",
    "            table_df = table.to_pandas()\n",
    "\n",
    "            # Filter rows with the current color\n",
    "            filtered_rows = table_df[table_df['pixel_color'] == color]\n",
    "\n",
    "            # Check if any rows are found with the current color\n",
    "            if not filtered_rows.empty:\n",
    "                # If original color is not set, set it to the current color\n",
    "                if original_color is None:\n",
    "                    original_color = color\n",
    "                    # Store matching rows in the result DataFrame\n",
    "                    result_tables.append(filtered_rows)\n",
    "\n",
    "                else:\n",
    "                    # If changed color is not set, set it to the current color\n",
    "                    if changed_color is None:\n",
    "                        changed_color = color\n",
    "                    # If both original and changed colors are set, break the loop\n",
    "                    if original_color is not None and changed_color is not None:\n",
    "                        break\n",
    "\n",
    "        # Check if both original and changed colors are found\n",
    "        if original_color is not None and changed_color is not None:\n",
    "            # Find the next timestamp after the original color change\n",
    "            next_timestamp = pd.Timestamp(result_tables[-1][result_tables[-1]['pixel_color'] == original_color].iloc[0]['timestamp']) + pd.Timedelta(milliseconds=1)\n",
    "\n",
    "            # Filter rows with the changed color at the next timestamp\n",
    "            changed_rows = result_tables[-1][(result_tables[-1]['timestamp'] == next_timestamp) & (result_tables[-1]['pixel_color'] == changed_color)]\n",
    "\n",
    "            # If changed color rows are found, check for reversion to the original color\n",
    "            if not changed_rows.empty:\n",
    "                # Find the timestamp range for reversion\n",
    "                start_time = changed_rows.iloc[0]['timestamp']\n",
    "                end_time = start_time + pd.Timedelta(milliseconds=20)\n",
    "\n",
    "                # Filter rows with the original color within the timestamp range\n",
    "                reverted_rows = result_tables[-1][(result_tables[-1]['timestamp'] >= start_time) & (result_tables[-1]['timestamp'] <= end_time) & (result_tables[-1]['pixel_color'] == original_color)]\n",
    "\n",
    "                # If reverted rows are found, add them to the result list\n",
    "                if not reverted_rows.empty:\n",
    "                    result_tables.append(reverted_rows)\n",
    "\n",
    "    # Concatenate all result tables into one DataFrame\n",
    "    result_table = pd.concat(result_tables, ignore_index=True)\n",
    "\n",
    "    # Convert DataFrame to PyArrow Table\n",
    "    result_arrow_table = pa.Table.from_pandas(result_table)\n",
    "\n",
    "    # Write the PyArrow Table to a Parquet file\n",
    "    pq.write_table(result_arrow_table, output_file)\n",
    "\n",
    "# Example usage:\n",
    "find_color_changes(colors, parquet_tables, output_file='result.parquet')\n"
   ]
  },
  {
   "cell_type": "markdown",
   "id": "acfebf4b",
   "metadata": {},
   "source": [
    "Save result to S3 bucket (subset parquet file)"
   ]
  },
  {
   "cell_type": "code",
   "execution_count": 9,
   "id": "e5e4f85b",
   "metadata": {},
   "outputs": [
    {
     "name": "stdout",
     "output_type": "stream",
     "text": [
      "File result.parquet uploaded to noturs/rplace-parquet/result.parquet\n"
     ]
    }
   ],
   "source": [
    "\n",
    "bucket_name = 'noturs'\n",
    "parquet_folder = 'rplace-parquet/'\n",
    "output_file_name = 'result.parquet'  \n",
    "s3_file_path = f\"{parquet_folder}{output_file_name}\"  \n",
    "\n",
    "\n",
    "s3_client = boto3.client('s3')\n",
    "\n",
    "# Function to upload the file to S3\n",
    "def upload_file_to_s3(local_file_name, bucket, s3_file_path):\n",
    "    try:\n",
    "        s3_client.upload_file(local_file_name, bucket, s3_file_path)\n",
    "        print(f\"File {local_file_name} uploaded to {bucket}/{s3_file_path}\")\n",
    "    except Exception as e:\n",
    "        print(f\"Error uploading file to S3: {e}\")\n",
    "\n",
    "\n",
    "upload_file_to_s3(output_file_name, bucket_name, s3_file_path)\n"
   ]
  },
  {
   "cell_type": "markdown",
   "id": "d8ca5066",
   "metadata": {},
   "source": [
    "Check data quality"
   ]
  },
  {
   "cell_type": "code",
   "execution_count": 3,
   "id": "ad3e9469",
   "metadata": {},
   "outputs": [
    {
     "name": "stderr",
     "output_type": "stream",
     "text": [
      "/home/ec2-user/anaconda3/envs/python3/lib/python3.10/site-packages/pandas/core/computation/expressions.py:21: UserWarning: Pandas requires version '2.8.0' or newer of 'numexpr' (version '2.7.3' currently installed).\n",
      "  from pandas.core.computation.check import NUMEXPR_INSTALLED\n"
     ]
    },
    {
     "name": "stdout",
     "output_type": "stream",
     "text": [
      "Number of rows in the pandas DataFrame: 15480924\n"
     ]
    }
   ],
   "source": [
    "import pandas as pd\n",
    "\n",
    "output_file = 'result.parquet'\n",
    "\n",
    "result_df = pd.read_parquet(output_file)\n",
    "\n",
    "num_rows_pandas = len(result_df)\n",
    "\n",
    "print(f\"Number of rows in the pandas DataFrame: {num_rows_pandas}\")\n"
   ]
  },
  {
   "cell_type": "code",
   "execution_count": 4,
   "id": "8dd813a7",
   "metadata": {},
   "outputs": [
    {
     "data": {
      "text/html": [
       "<div>\n",
       "<style scoped>\n",
       "    .dataframe tbody tr th:only-of-type {\n",
       "        vertical-align: middle;\n",
       "    }\n",
       "\n",
       "    .dataframe tbody tr th {\n",
       "        vertical-align: top;\n",
       "    }\n",
       "\n",
       "    .dataframe thead th {\n",
       "        text-align: right;\n",
       "    }\n",
       "</style>\n",
       "<table border=\"1\" class=\"dataframe\">\n",
       "  <thead>\n",
       "    <tr style=\"text-align: right;\">\n",
       "      <th></th>\n",
       "      <th>timestamp</th>\n",
       "      <th>user</th>\n",
       "      <th>coordinate</th>\n",
       "      <th>pixel_color</th>\n",
       "    </tr>\n",
       "  </thead>\n",
       "  <tbody>\n",
       "    <tr>\n",
       "      <th>0</th>\n",
       "      <td>2023-07-20 13:00:43.658 UTC</td>\n",
       "      <td>qJ7O6cuUNfkDyn+ZOEYR+UiVEmAu/vYfm/s4hK0XJytqAx...</td>\n",
       "      <td>0,-298</td>\n",
       "      <td>#FF4500</td>\n",
       "    </tr>\n",
       "    <tr>\n",
       "      <th>1</th>\n",
       "      <td>2023-07-20 13:01:40.445 UTC</td>\n",
       "      <td>2bmivBNj8NYvnp/15k0EqC+75T1OxTtCUcRG2pf0c5btzF...</td>\n",
       "      <td>182,164</td>\n",
       "      <td>#FF4500</td>\n",
       "    </tr>\n",
       "    <tr>\n",
       "      <th>2</th>\n",
       "      <td>2023-07-20 13:04:21.997 UTC</td>\n",
       "      <td>ZyxEvOoOROWtKV4j+7ReL71h0DlibBSu0Bxdke0dQhbgG2...</td>\n",
       "      <td>23,-188</td>\n",
       "      <td>#FF4500</td>\n",
       "    </tr>\n",
       "    <tr>\n",
       "      <th>3</th>\n",
       "      <td>2023-07-20 13:04:42.711 UTC</td>\n",
       "      <td>OliFXK03g6C/dIlK8W22QblkEC+CraYI86U78uzxSf2fl3...</td>\n",
       "      <td>16,337</td>\n",
       "      <td>#FF4500</td>\n",
       "    </tr>\n",
       "    <tr>\n",
       "      <th>4</th>\n",
       "      <td>2023-07-20 13:04:45.288 UTC</td>\n",
       "      <td>8fwj/jPEvokM9VJZEDPCaxJLpcih9qOVyudMZT/HpSNt4S...</td>\n",
       "      <td>-36,-211</td>\n",
       "      <td>#FF4500</td>\n",
       "    </tr>\n",
       "    <tr>\n",
       "      <th>...</th>\n",
       "      <td>...</td>\n",
       "      <td>...</td>\n",
       "      <td>...</td>\n",
       "      <td>...</td>\n",
       "    </tr>\n",
       "    <tr>\n",
       "      <th>15480919</th>\n",
       "      <td>2023-07-21 16:54:47.428 UTC</td>\n",
       "      <td>Bx9buiUSKRI9pHHSIRIFRPcGvQa0UIknyXCwS2pcDMnqi3...</td>\n",
       "      <td>356,123</td>\n",
       "      <td>#FFFFFF</td>\n",
       "    </tr>\n",
       "    <tr>\n",
       "      <th>15480920</th>\n",
       "      <td>2023-07-21 16:54:47.43 UTC</td>\n",
       "      <td>2T5WDv5Q53gAphdu+EcpR5bZ5TcsrNyzCdT7Xd3liTp7Gh...</td>\n",
       "      <td>355,121</td>\n",
       "      <td>#FFFFFF</td>\n",
       "    </tr>\n",
       "    <tr>\n",
       "      <th>15480921</th>\n",
       "      <td>2023-07-21 16:54:47.445 UTC</td>\n",
       "      <td>uoP0ZNA+FnKXEhCLcTz53AjVvDWyV7w5x3Guod8Iy7H4BW...</td>\n",
       "      <td>-126,144</td>\n",
       "      <td>#FFFFFF</td>\n",
       "    </tr>\n",
       "    <tr>\n",
       "      <th>15480922</th>\n",
       "      <td>2023-07-21 16:54:47.449 UTC</td>\n",
       "      <td>chEQO/6dDwueNdD6xvglAsfje5/CF6lW1eka0f8QH7Cu81...</td>\n",
       "      <td>-107,492</td>\n",
       "      <td>#FFFFFF</td>\n",
       "    </tr>\n",
       "    <tr>\n",
       "      <th>15480923</th>\n",
       "      <td>2023-07-21 16:54:47.449 UTC</td>\n",
       "      <td>EXArjPShrribQDSqAAgv6KP6wNMM/iPAcK/VdIDePwN1mB...</td>\n",
       "      <td>934,426</td>\n",
       "      <td>#FFFFFF</td>\n",
       "    </tr>\n",
       "  </tbody>\n",
       "</table>\n",
       "<p>15480924 rows × 4 columns</p>\n",
       "</div>"
      ],
      "text/plain": [
       "                            timestamp  \\\n",
       "0         2023-07-20 13:00:43.658 UTC   \n",
       "1         2023-07-20 13:01:40.445 UTC   \n",
       "2         2023-07-20 13:04:21.997 UTC   \n",
       "3         2023-07-20 13:04:42.711 UTC   \n",
       "4         2023-07-20 13:04:45.288 UTC   \n",
       "...                               ...   \n",
       "15480919  2023-07-21 16:54:47.428 UTC   \n",
       "15480920   2023-07-21 16:54:47.43 UTC   \n",
       "15480921  2023-07-21 16:54:47.445 UTC   \n",
       "15480922  2023-07-21 16:54:47.449 UTC   \n",
       "15480923  2023-07-21 16:54:47.449 UTC   \n",
       "\n",
       "                                                       user coordinate  \\\n",
       "0         qJ7O6cuUNfkDyn+ZOEYR+UiVEmAu/vYfm/s4hK0XJytqAx...     0,-298   \n",
       "1         2bmivBNj8NYvnp/15k0EqC+75T1OxTtCUcRG2pf0c5btzF...    182,164   \n",
       "2         ZyxEvOoOROWtKV4j+7ReL71h0DlibBSu0Bxdke0dQhbgG2...    23,-188   \n",
       "3         OliFXK03g6C/dIlK8W22QblkEC+CraYI86U78uzxSf2fl3...     16,337   \n",
       "4         8fwj/jPEvokM9VJZEDPCaxJLpcih9qOVyudMZT/HpSNt4S...   -36,-211   \n",
       "...                                                     ...        ...   \n",
       "15480919  Bx9buiUSKRI9pHHSIRIFRPcGvQa0UIknyXCwS2pcDMnqi3...    356,123   \n",
       "15480920  2T5WDv5Q53gAphdu+EcpR5bZ5TcsrNyzCdT7Xd3liTp7Gh...    355,121   \n",
       "15480921  uoP0ZNA+FnKXEhCLcTz53AjVvDWyV7w5x3Guod8Iy7H4BW...   -126,144   \n",
       "15480922  chEQO/6dDwueNdD6xvglAsfje5/CF6lW1eka0f8QH7Cu81...   -107,492   \n",
       "15480923  EXArjPShrribQDSqAAgv6KP6wNMM/iPAcK/VdIDePwN1mB...    934,426   \n",
       "\n",
       "         pixel_color  \n",
       "0            #FF4500  \n",
       "1            #FF4500  \n",
       "2            #FF4500  \n",
       "3            #FF4500  \n",
       "4            #FF4500  \n",
       "...              ...  \n",
       "15480919     #FFFFFF  \n",
       "15480920     #FFFFFF  \n",
       "15480921     #FFFFFF  \n",
       "15480922     #FFFFFF  \n",
       "15480923     #FFFFFF  \n",
       "\n",
       "[15480924 rows x 4 columns]"
      ]
     },
     "execution_count": 4,
     "metadata": {},
     "output_type": "execute_result"
    }
   ],
   "source": [
    "result_df"
   ]
  },
  {
   "cell_type": "code",
   "execution_count": 5,
   "id": "78431895",
   "metadata": {},
   "outputs": [
    {
     "data": {
      "text/plain": [
       "2882318"
      ]
     },
     "execution_count": 5,
     "metadata": {},
     "output_type": "execute_result"
    }
   ],
   "source": [
    "# Unique Users\n",
    "result_df['user'].nunique()"
   ]
  },
  {
   "cell_type": "code",
   "execution_count": 6,
   "id": "30501be5",
   "metadata": {},
   "outputs": [
    {
     "data": {
      "text/plain": [
       "pixel_color\n",
       "#000000    6202252\n",
       "#FFFFFF    4756167\n",
       "#FF4500    4516589\n",
       "#94B3FF       5916\n",
       "Name: count, dtype: int64"
      ]
     },
     "execution_count": 6,
     "metadata": {},
     "output_type": "execute_result"
    }
   ],
   "source": [
    "# Count by Color\n",
    "result_df['pixel_color'].value_counts()"
   ]
  },
  {
   "cell_type": "code",
   "execution_count": 8,
   "id": "cea09edc",
   "metadata": {},
   "outputs": [
    {
     "data": {
      "text/plain": [
       "timestamp      object\n",
       "user           object\n",
       "coordinate     object\n",
       "pixel_color    object\n",
       "dtype: object"
      ]
     },
     "execution_count": 8,
     "metadata": {},
     "output_type": "execute_result"
    }
   ],
   "source": [
    "result_df.dtypes"
   ]
  },
  {
   "cell_type": "code",
   "execution_count": 12,
   "id": "957530e0",
   "metadata": {},
   "outputs": [
    {
     "name": "stdout",
     "output_type": "stream",
     "text": [
      "                            timestamp  \\\n",
      "0         2023-07-20 13:00:43.658 UTC   \n",
      "1         2023-07-20 13:01:40.445 UTC   \n",
      "2         2023-07-20 13:04:21.997 UTC   \n",
      "3         2023-07-20 13:04:42.711 UTC   \n",
      "4         2023-07-20 13:04:45.288 UTC   \n",
      "...                               ...   \n",
      "15480919  2023-07-21 16:54:47.428 UTC   \n",
      "15480920   2023-07-21 16:54:47.43 UTC   \n",
      "15480921  2023-07-21 16:54:47.445 UTC   \n",
      "15480922  2023-07-21 16:54:47.449 UTC   \n",
      "15480923  2023-07-21 16:54:47.449 UTC   \n",
      "\n",
      "                                                       user coordinate  \\\n",
      "0         qJ7O6cuUNfkDyn+ZOEYR+UiVEmAu/vYfm/s4hK0XJytqAx...     0,-298   \n",
      "1         2bmivBNj8NYvnp/15k0EqC+75T1OxTtCUcRG2pf0c5btzF...    182,164   \n",
      "2         ZyxEvOoOROWtKV4j+7ReL71h0DlibBSu0Bxdke0dQhbgG2...    23,-188   \n",
      "3         OliFXK03g6C/dIlK8W22QblkEC+CraYI86U78uzxSf2fl3...     16,337   \n",
      "4         8fwj/jPEvokM9VJZEDPCaxJLpcih9qOVyudMZT/HpSNt4S...   -36,-211   \n",
      "...                                                     ...        ...   \n",
      "15480919  Bx9buiUSKRI9pHHSIRIFRPcGvQa0UIknyXCwS2pcDMnqi3...    356,123   \n",
      "15480920  2T5WDv5Q53gAphdu+EcpR5bZ5TcsrNyzCdT7Xd3liTp7Gh...    355,121   \n",
      "15480921  uoP0ZNA+FnKXEhCLcTz53AjVvDWyV7w5x3Guod8Iy7H4BW...   -126,144   \n",
      "15480922  chEQO/6dDwueNdD6xvglAsfje5/CF6lW1eka0f8QH7Cu81...   -107,492   \n",
      "15480923  EXArjPShrribQDSqAAgv6KP6wNMM/iPAcK/VdIDePwN1mB...    934,426   \n",
      "\n",
      "         pixel_color     x     y  \n",
      "0            #FF4500     0  -298  \n",
      "1            #FF4500   182   164  \n",
      "2            #FF4500    23  -188  \n",
      "3            #FF4500    16   337  \n",
      "4            #FF4500   -36  -211  \n",
      "...              ...   ...   ...  \n",
      "15480919     #FFFFFF   356   123  \n",
      "15480920     #FFFFFF   355   121  \n",
      "15480921     #FFFFFF  -126   144  \n",
      "15480922     #FFFFFF  -107   492  \n",
      "15480923     #FFFFFF   934   426  \n",
      "\n",
      "[15480924 rows x 6 columns]\n"
     ]
    }
   ],
   "source": [
    "result_df[['x', 'y']] = result_df['coordinate'].str.extract(r'(?P<x>-?\\d+)\\s*,\\s*(?P<y>-?\\d+)')\n"
   ]
  },
  {
   "cell_type": "code",
   "execution_count": 27,
   "id": "d1a1ce30",
   "metadata": {},
   "outputs": [
    {
     "data": {
      "text/html": [
       "<div>\n",
       "<style scoped>\n",
       "    .dataframe tbody tr th:only-of-type {\n",
       "        vertical-align: middle;\n",
       "    }\n",
       "\n",
       "    .dataframe tbody tr th {\n",
       "        vertical-align: top;\n",
       "    }\n",
       "\n",
       "    .dataframe thead th {\n",
       "        text-align: right;\n",
       "    }\n",
       "</style>\n",
       "<table border=\"1\" class=\"dataframe\">\n",
       "  <thead>\n",
       "    <tr style=\"text-align: right;\">\n",
       "      <th></th>\n",
       "      <th>timestamp</th>\n",
       "      <th>user</th>\n",
       "      <th>coordinate</th>\n",
       "      <th>pixel_color</th>\n",
       "      <th>x</th>\n",
       "      <th>y</th>\n",
       "    </tr>\n",
       "  </thead>\n",
       "  <tbody>\n",
       "    <tr>\n",
       "      <th>0</th>\n",
       "      <td>2023-07-20 13:00:43.658 UTC</td>\n",
       "      <td>qJ7O6cuUNfkDyn+ZOEYR+UiVEmAu/vYfm/s4hK0XJytqAx...</td>\n",
       "      <td>0,-298</td>\n",
       "      <td>#FF4500</td>\n",
       "      <td>0</td>\n",
       "      <td>-298</td>\n",
       "    </tr>\n",
       "    <tr>\n",
       "      <th>1</th>\n",
       "      <td>2023-07-20 13:01:40.445 UTC</td>\n",
       "      <td>2bmivBNj8NYvnp/15k0EqC+75T1OxTtCUcRG2pf0c5btzF...</td>\n",
       "      <td>182,164</td>\n",
       "      <td>#FF4500</td>\n",
       "      <td>182</td>\n",
       "      <td>164</td>\n",
       "    </tr>\n",
       "    <tr>\n",
       "      <th>2</th>\n",
       "      <td>2023-07-20 13:04:21.997 UTC</td>\n",
       "      <td>ZyxEvOoOROWtKV4j+7ReL71h0DlibBSu0Bxdke0dQhbgG2...</td>\n",
       "      <td>23,-188</td>\n",
       "      <td>#FF4500</td>\n",
       "      <td>23</td>\n",
       "      <td>-188</td>\n",
       "    </tr>\n",
       "    <tr>\n",
       "      <th>3</th>\n",
       "      <td>2023-07-20 13:04:42.711 UTC</td>\n",
       "      <td>OliFXK03g6C/dIlK8W22QblkEC+CraYI86U78uzxSf2fl3...</td>\n",
       "      <td>16,337</td>\n",
       "      <td>#FF4500</td>\n",
       "      <td>16</td>\n",
       "      <td>337</td>\n",
       "    </tr>\n",
       "    <tr>\n",
       "      <th>4</th>\n",
       "      <td>2023-07-20 13:04:45.288 UTC</td>\n",
       "      <td>8fwj/jPEvokM9VJZEDPCaxJLpcih9qOVyudMZT/HpSNt4S...</td>\n",
       "      <td>-36,-211</td>\n",
       "      <td>#FF4500</td>\n",
       "      <td>-36</td>\n",
       "      <td>-211</td>\n",
       "    </tr>\n",
       "    <tr>\n",
       "      <th>...</th>\n",
       "      <td>...</td>\n",
       "      <td>...</td>\n",
       "      <td>...</td>\n",
       "      <td>...</td>\n",
       "      <td>...</td>\n",
       "      <td>...</td>\n",
       "    </tr>\n",
       "    <tr>\n",
       "      <th>15480919</th>\n",
       "      <td>2023-07-21 16:54:47.428 UTC</td>\n",
       "      <td>Bx9buiUSKRI9pHHSIRIFRPcGvQa0UIknyXCwS2pcDMnqi3...</td>\n",
       "      <td>356,123</td>\n",
       "      <td>#FFFFFF</td>\n",
       "      <td>356</td>\n",
       "      <td>123</td>\n",
       "    </tr>\n",
       "    <tr>\n",
       "      <th>15480920</th>\n",
       "      <td>2023-07-21 16:54:47.43 UTC</td>\n",
       "      <td>2T5WDv5Q53gAphdu+EcpR5bZ5TcsrNyzCdT7Xd3liTp7Gh...</td>\n",
       "      <td>355,121</td>\n",
       "      <td>#FFFFFF</td>\n",
       "      <td>355</td>\n",
       "      <td>121</td>\n",
       "    </tr>\n",
       "    <tr>\n",
       "      <th>15480921</th>\n",
       "      <td>2023-07-21 16:54:47.445 UTC</td>\n",
       "      <td>uoP0ZNA+FnKXEhCLcTz53AjVvDWyV7w5x3Guod8Iy7H4BW...</td>\n",
       "      <td>-126,144</td>\n",
       "      <td>#FFFFFF</td>\n",
       "      <td>-126</td>\n",
       "      <td>144</td>\n",
       "    </tr>\n",
       "    <tr>\n",
       "      <th>15480922</th>\n",
       "      <td>2023-07-21 16:54:47.449 UTC</td>\n",
       "      <td>chEQO/6dDwueNdD6xvglAsfje5/CF6lW1eka0f8QH7Cu81...</td>\n",
       "      <td>-107,492</td>\n",
       "      <td>#FFFFFF</td>\n",
       "      <td>-107</td>\n",
       "      <td>492</td>\n",
       "    </tr>\n",
       "    <tr>\n",
       "      <th>15480923</th>\n",
       "      <td>2023-07-21 16:54:47.449 UTC</td>\n",
       "      <td>EXArjPShrribQDSqAAgv6KP6wNMM/iPAcK/VdIDePwN1mB...</td>\n",
       "      <td>934,426</td>\n",
       "      <td>#FFFFFF</td>\n",
       "      <td>934</td>\n",
       "      <td>426</td>\n",
       "    </tr>\n",
       "  </tbody>\n",
       "</table>\n",
       "<p>15480924 rows × 6 columns</p>\n",
       "</div>"
      ],
      "text/plain": [
       "                            timestamp  \\\n",
       "0         2023-07-20 13:00:43.658 UTC   \n",
       "1         2023-07-20 13:01:40.445 UTC   \n",
       "2         2023-07-20 13:04:21.997 UTC   \n",
       "3         2023-07-20 13:04:42.711 UTC   \n",
       "4         2023-07-20 13:04:45.288 UTC   \n",
       "...                               ...   \n",
       "15480919  2023-07-21 16:54:47.428 UTC   \n",
       "15480920   2023-07-21 16:54:47.43 UTC   \n",
       "15480921  2023-07-21 16:54:47.445 UTC   \n",
       "15480922  2023-07-21 16:54:47.449 UTC   \n",
       "15480923  2023-07-21 16:54:47.449 UTC   \n",
       "\n",
       "                                                       user coordinate  \\\n",
       "0         qJ7O6cuUNfkDyn+ZOEYR+UiVEmAu/vYfm/s4hK0XJytqAx...     0,-298   \n",
       "1         2bmivBNj8NYvnp/15k0EqC+75T1OxTtCUcRG2pf0c5btzF...    182,164   \n",
       "2         ZyxEvOoOROWtKV4j+7ReL71h0DlibBSu0Bxdke0dQhbgG2...    23,-188   \n",
       "3         OliFXK03g6C/dIlK8W22QblkEC+CraYI86U78uzxSf2fl3...     16,337   \n",
       "4         8fwj/jPEvokM9VJZEDPCaxJLpcih9qOVyudMZT/HpSNt4S...   -36,-211   \n",
       "...                                                     ...        ...   \n",
       "15480919  Bx9buiUSKRI9pHHSIRIFRPcGvQa0UIknyXCwS2pcDMnqi3...    356,123   \n",
       "15480920  2T5WDv5Q53gAphdu+EcpR5bZ5TcsrNyzCdT7Xd3liTp7Gh...    355,121   \n",
       "15480921  uoP0ZNA+FnKXEhCLcTz53AjVvDWyV7w5x3Guod8Iy7H4BW...   -126,144   \n",
       "15480922  chEQO/6dDwueNdD6xvglAsfje5/CF6lW1eka0f8QH7Cu81...   -107,492   \n",
       "15480923  EXArjPShrribQDSqAAgv6KP6wNMM/iPAcK/VdIDePwN1mB...    934,426   \n",
       "\n",
       "         pixel_color     x     y  \n",
       "0            #FF4500     0  -298  \n",
       "1            #FF4500   182   164  \n",
       "2            #FF4500    23  -188  \n",
       "3            #FF4500    16   337  \n",
       "4            #FF4500   -36  -211  \n",
       "...              ...   ...   ...  \n",
       "15480919     #FFFFFF   356   123  \n",
       "15480920     #FFFFFF   355   121  \n",
       "15480921     #FFFFFF  -126   144  \n",
       "15480922     #FFFFFF  -107   492  \n",
       "15480923     #FFFFFF   934   426  \n",
       "\n",
       "[15480924 rows x 6 columns]"
      ]
     },
     "execution_count": 27,
     "metadata": {},
     "output_type": "execute_result"
    }
   ],
   "source": [
    "result_df"
   ]
  },
  {
   "cell_type": "code",
   "execution_count": 29,
   "id": "3afaa353",
   "metadata": {},
   "outputs": [
    {
     "data": {
      "text/plain": [
       "1175531"
      ]
     },
     "execution_count": 29,
     "metadata": {},
     "output_type": "execute_result"
    }
   ],
   "source": [
    "result_df['coordinate'].nunique()"
   ]
  }
 ],
 "metadata": {
  "kernelspec": {
   "display_name": "conda_python3",
   "language": "python",
   "name": "conda_python3"
  },
  "language_info": {
   "codemirror_mode": {
    "name": "ipython",
    "version": 3
   },
   "file_extension": ".py",
   "mimetype": "text/x-python",
   "name": "python",
   "nbconvert_exporter": "python",
   "pygments_lexer": "ipython3",
   "version": "3.10.13"
  }
 },
 "nbformat": 4,
 "nbformat_minor": 5
}
